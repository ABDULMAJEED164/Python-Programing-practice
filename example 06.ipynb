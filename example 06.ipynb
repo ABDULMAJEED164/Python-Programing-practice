{
 "cells": [
  {
   "cell_type": "code",
   "execution_count": 5,
   "metadata": {},
   "outputs": [
    {
     "name": "stdout",
     "output_type": "stream",
     "text": [
      "['aaa sss', 'aaa ttt', 'aaa uuu', 'aaa vvv', 'bbb sss', 'bbb ttt', 'bbb uuu', 'bbb vvv', 'ccc sss', 'ccc ttt', 'ccc uuu', 'ccc vvv', 'ddd sss', 'ddd ttt', 'ddd uuu', 'ddd vvv']\n"
     ]
    }
   ],
   "source": [
    "fname= ['aaa', 'bbb', 'ccc', 'ddd']\n",
    "lname= ['sss', 'ttt', 'uuu', 'vvv']\n",
    "ful=[]\n",
    "for name in fname:\n",
    "    for bname in lname:\n",
    "        ful.append(name +\" \"+ bname)\n",
    "print(ful)"
   ]
  },
  {
   "cell_type": "code",
   "execution_count": 8,
   "metadata": {},
   "outputs": [
    {
     "name": "stdout",
     "output_type": "stream",
     "text": [
      "abdul majeed = lower case\n",
      "ABDUL MAJEED = upper case\n",
      "Abdul Majeed = title case\n"
     ]
    }
   ],
   "source": [
    "# upper, lower, and title case:\n",
    "a= \"Abdul Majeed\"\n",
    "print(a.lower(), '= lower case')\n",
    "print(a.upper(), '= upper case')\n",
    "print(a.title(), '= title case')"
   ]
  },
  {
   "cell_type": "code",
   "execution_count": 9,
   "metadata": {},
   "outputs": [
    {
     "name": "stdout",
     "output_type": "stream",
     "text": [
      "isl\n",
      "kar\n",
      "fai\n",
      "que\n",
      "pesh\n"
     ]
    }
   ],
   "source": [
    "# loops\n",
    "\n",
    "a= ['isl', 'kar','fai', 'que','pesh']\n",
    "for b in a:\n",
    "    print(b)"
   ]
  },
  {
   "cell_type": "code",
   "execution_count": 11,
   "metadata": {},
   "outputs": [
    {
     "name": "stdout",
     "output_type": "stream",
     "text": [
      "enter the city name isl\n",
      "this is cleanest city.\n"
     ]
    }
   ],
   "source": [
    "a= ['isl', 'kar','fai', 'que','pesh']\n",
    "\n",
    "c= input('enter the city name ')\n",
    "\n",
    "for b in a:\n",
    "    if c==b:\n",
    "        print('this is cleanest city.')\n",
    "    else:\n",
    "        print('this is not the cleanest city.')\n",
    "    break"
   ]
  },
  {
   "cell_type": "code",
   "execution_count": null,
   "metadata": {},
   "outputs": [],
   "source": []
  }
 ],
 "metadata": {
  "kernelspec": {
   "display_name": "Python 3",
   "language": "python",
   "name": "python3"
  },
  "language_info": {
   "codemirror_mode": {
    "name": "ipython",
    "version": 3
   },
   "file_extension": ".py",
   "mimetype": "text/x-python",
   "name": "python",
   "nbconvert_exporter": "python",
   "pygments_lexer": "ipython3",
   "version": "3.7.4"
  }
 },
 "nbformat": 4,
 "nbformat_minor": 2
}
