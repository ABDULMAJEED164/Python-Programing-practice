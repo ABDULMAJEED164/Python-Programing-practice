{
 "cells": [
  {
   "cell_type": "code",
   "execution_count": 34,
   "metadata": {},
   "outputs": [
    {
     "name": "stdout",
     "output_type": "stream",
     "text": [
      "[{'s.no': 1, 'questions': 'what is your country name?', 'options': ['Pakistan', 'USA', 'UEA', 'Africa'], 'answer': 'pakistan'}, {'s.no': 2, 'questions': 'what is your country name?', 'options': ['pakistan', 'usa', 'uae', 'africa'], 'answer': 'pakistan'}, {'s.no': 3, 'questions': 'what is your country name?', 'options': ['pakistan', 'usa', 'uae', 'africa'], 'answer': 'pakistan'}]\n",
      "{'s.no': 1, 'questions': 'what is your country name?', 'options': ['Pakistan', 'USA', 'UEA', 'Africa'], 'answer': 'pakistan'}\n",
      "pakistan\n"
     ]
    }
   ],
   "source": [
    "questions = [\n",
    "    {\n",
    "        \"s.no\" : 1,\n",
    "        \"questions\" : \"what is your country name?\",\n",
    "        \"options\" : [\"Pakistan\",\"USA\",\"UEA\",\"Africa\"],\n",
    "        \"answer\" : \"pakistan\"\n",
    "    },\n",
    "    {\n",
    "        \"s.no\" : 2,\n",
    "        \"questions\" : \"what is your country name?\",\n",
    "        \"options\" : [\"pakistan\",\"usa\",\"uae\",\"africa\"],\n",
    "        \"answer\" : \"pakistan\"\n",
    "    },\n",
    "    {\n",
    "        \"s.no\" : 3,\n",
    "        \"questions\" : \"what is your country name?\",\n",
    "        \"options\" : [\"pakistan\",\"usa\",\"uae\",\"africa\"],\n",
    "        \"answer\" : \"pakistan\"\n",
    "    }\n",
    "]\n",
    "\n",
    "print(questions)\n",
    "print(questions[0])\n",
    "print(questions[0][\"answer\"])"
   ]
  },
  {
   "cell_type": "code",
   "execution_count": 36,
   "metadata": {},
   "outputs": [
    {
     "name": "stdout",
     "output_type": "stream",
     "text": [
      "[{'s.no': 1, 'questions': 'what is your country name?', 'options': ['Pakistan', 'USA', 'UEA', 'Africa'], 'answer': 'pakistan'}, {'s.no': 2, 'questions': 'what is your country name?', 'options': ['pakistan', 'usa', 'uae', 'africa'], 'answer': 'pakistan'}, {'s.no': 3, 'questions': 'what is your country name?', 'options': ['pakistan', 'usa', 'uae', 'africa'], 'answer': 'pakistan'}, {'s.no': 4, 'questions': 'what is your country name?', 'options': ['pakistan', 'usa', 'uae', 'africa'], 'answer': 'pakistan'}]\n"
     ]
    }
   ],
   "source": [
    "new_question = {\n",
    "        \"s.no\" : 4,\n",
    "        \"questions\" : \"what is your country name?\",\n",
    "        \"options\" : [\"pakistan\",\"usa\",\"uae\",\"africa\"],\n",
    "        \"answer\" : \"pakistan\"\n",
    "}\n",
    "questions.append(new_question)\n",
    "print(questions)"
   ]
  },
  {
   "cell_type": "code",
   "execution_count": 37,
   "metadata": {},
   "outputs": [
    {
     "name": "stdout",
     "output_type": "stream",
     "text": [
      "{'s.no': 4, 'questions': 'what is your country name?', 'options': ['pakistan', 'usa', 'uae', 'africa'], 'answer': 'pakistan'}\n"
     ]
    }
   ],
   "source": [
    "print(questions[3])"
   ]
  },
  {
   "cell_type": "code",
   "execution_count": 38,
   "metadata": {},
   "outputs": [
    {
     "name": "stdout",
     "output_type": "stream",
     "text": [
      "['pakistan', 'usa', 'uae', 'africa']\n"
     ]
    }
   ],
   "source": [
    "print(questions[3][\"options\"])"
   ]
  },
  {
   "cell_type": "code",
   "execution_count": 42,
   "metadata": {},
   "outputs": [
    {
     "name": "stdout",
     "output_type": "stream",
     "text": [
      "Pakistan\n"
     ]
    }
   ],
   "source": [
    "print(questions[0][\"options\"][0])"
   ]
  },
  {
   "cell_type": "code",
   "execution_count": 33,
   "metadata": {},
   "outputs": [
    {
     "name": "stdout",
     "output_type": "stream",
     "text": [
      "[{'s.no': 1, 'questions': 'what is your country name?', 'options': ['pakistan', 'usa', 'uae', 'africa'], 'answer': 'pakistan'}, {'s.no': 2, 'questions': 'what is your country name?', 'options': ['pakistan', 'usa', 'uae', 'africa'], 'answer': 'pakistan'}, {'s.no': 4, 'questions': 'what is your country name?', 'options': ['pakistan', 'usa', 'uae', 'africa'], 'answer': 'pakistan'}, {'s.no': 4, 'questions': 'what is your country name?', 'options': ['pakistan', 'usa', 'uae', 'africa'], 'answer': 'pakistan'}, {'s.no': 3, 'questions': 'what is your country name?', 'options': ['pakistan', 'usa', 'uae', 'africa'], 'answer': 'pakistan'}, {'s.no': 4, 'questions': 'what is your country name?', 'options': ['pakistan', 'usa', 'uae', 'africa'], 'answer': 'pakistan'}]\n"
     ]
    }
   ],
   "source": [
    "questions.insert(2,new_question)\n",
    "print(questions)"
   ]
  },
  {
   "cell_type": "code",
   "execution_count": 40,
   "metadata": {},
   "outputs": [
    {
     "name": "stdout",
     "output_type": "stream",
     "text": [
      "{'s.no': 3, 'questions': 'what is your country name?', 'options': ['pakistan', 'usa', 'uae', 'africa'], 'answer': 'pakistan'}\n"
     ]
    }
   ],
   "source": [
    "print(questions[2])"
   ]
  },
  {
   "cell_type": "code",
   "execution_count": 44,
   "metadata": {},
   "outputs": [
    {
     "name": "stdout",
     "output_type": "stream",
     "text": [
      "{0: {'name': 'Ali', 'fname': 'waleed', 'age': 15}, 1: {'name': 'waqas', 'fname': 'kamran', 'age': 15}, 2: {'name': 'Ali', 'fname': 'waleed', 'age': 16}}\n"
     ]
    }
   ],
   "source": [
    "student = {\n",
    "  0:  {\n",
    "        \"name\" : \"Ali\",\n",
    "        \"fname\" : \"waleed\",\n",
    "        \"age\" : 15\n",
    "    },\n",
    "  1:  {\n",
    "        \"name\" : \"waqas\",\n",
    "        \"fname\" : \"kamran\",\n",
    "        \"age\" : 15\n",
    "    },\n",
    "   2: {\n",
    "        \"name\" : \"Ali\",\n",
    "        \"fname\" : \"waleed\",\n",
    "        \"age\" : 16\n",
    "    }\n",
    "\n",
    "}\n",
    "print(student)"
   ]
  },
  {
   "cell_type": "code",
   "execution_count": 51,
   "metadata": {},
   "outputs": [
    {
     "name": "stdout",
     "output_type": "stream",
     "text": [
      "{'name': 'Ali', 'fname': 'waleed', 'age': 15}\n",
      "Name: Ali\n"
     ]
    }
   ],
   "source": [
    "print(student[0])\n",
    "print(\"Name: \"+student[0][\"name\"])"
   ]
  },
  {
   "cell_type": "code",
   "execution_count": 1,
   "metadata": {},
   "outputs": [
    {
     "name": "stdout",
     "output_type": "stream",
     "text": [
      "\n",
      "Q1: what is your country name?\n",
      "a) Pakistan b) USA c) UEA d) Africa\n",
      "\n",
      "\n",
      " Select the correct option Pakistan\n",
      "\n",
      "Q2: what is your country capital name?\n",
      "a) Hyderabad b) Islamabad c) Karachi d) Bhan Sayed Abad\n",
      "\n",
      "\n",
      " Select the correct option Islamabad\n",
      "\n",
      "Q3: what is your city name?\n",
      "a) Hyderabad b) Islamabad c) Karachi d) Bhan Sayed Abad\n",
      "\n",
      "\n",
      " Select the correct option Hyderabad\n",
      "Your Score is :3 Out of 3\n",
      "Your Percentage is : 100%\n"
     ]
    }
   ],
   "source": [
    "questions = [\n",
    "    {\n",
    "        \"s.no\" : 1,\n",
    "        \"questions\" : \"what is your country name?\",\n",
    "        \"options\" : [\"Pakistan\",\"USA\",\"UEA\",\"Africa\"],\n",
    "        \"answer\" : \"Pakistan\"\n",
    "    },\n",
    "    {\n",
    "        \"s.no\" : 2,\n",
    "        \"questions\" : \"what is your country capital name?\",\n",
    "        \"options\" : [\"Hyderabad\",\"Islamabad\",\"Karachi\",\"Bhan Sayed Abad\"],\n",
    "        \"answer\" : \"Islamabad\"\n",
    "    },\n",
    "    {\n",
    "        \"s.no\" : 3,\n",
    "        \"questions\" : \"what is your city name?\",\n",
    "        \"options\" : [\"Hyderabad\",\"Islamabad\",\"Karachi\",\"Bhan Sayed Abad\"],\n",
    "        \"answer\" : \"Hyderabad\"\n",
    "    }\n",
    "    \n",
    "]\n",
    "\n",
    "score = 0\n",
    "\n",
    "for que in questions:\n",
    "    data =  \"Q\"+str(que[\"s.no\"])+\": \" + que[\"questions\"]+ \"\\n\" +\"a) \" + que[\"options\"][0] +\" b) \" + que[\"options\"][1] +\" c) \" + que[\"options\"][2]+\" d) \" + que[\"options\"][3]+\"\\n\"\n",
    "    print(\"\\n\" + data)\n",
    "    answer = input(\"\\n Select the correct option \")\n",
    "    if answer == que[\"answer\"]:\n",
    "        score += 1\n",
    "print(\"Your Score is :\"+str(score) + \" Out of \" + str(len(questions)))\n",
    "print(\"Your Percentage is : \" + str(int((score/len(questions))*100)) + \"%\")"
   ]
  },
  {
   "cell_type": "code",
   "execution_count": null,
   "metadata": {},
   "outputs": [],
   "source": []
  },
  {
   "cell_type": "code",
   "execution_count": null,
   "metadata": {},
   "outputs": [],
   "source": []
  },
  {
   "cell_type": "code",
   "execution_count": null,
   "metadata": {},
   "outputs": [],
   "source": []
  }
 ],
 "metadata": {
  "kernelspec": {
   "display_name": "Python 3",
   "language": "python",
   "name": "python3"
  },
  "language_info": {
   "codemirror_mode": {
    "name": "ipython",
    "version": 3
   },
   "file_extension": ".py",
   "mimetype": "text/x-python",
   "name": "python",
   "nbconvert_exporter": "python",
   "pygments_lexer": "ipython3",
   "version": "3.7.4"
  }
 },
 "nbformat": 4,
 "nbformat_minor": 2
}
