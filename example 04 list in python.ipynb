{
 "cells": [
  {
   "cell_type": "code",
   "execution_count": 63,
   "metadata": {},
   "outputs": [
    {
     "name": "stdout",
     "output_type": "stream",
     "text": [
      "['Ali', 'Haider', 'Salman', 25, False, 0.9]\n"
     ]
    }
   ],
   "source": [
    "#starting List\n",
    "arr= [\"Ali\", \"Haider\", \"Salman\", 25, False, 0.9]\n",
    "print(arr)"
   ]
  },
  {
   "cell_type": "code",
   "execution_count": 64,
   "metadata": {},
   "outputs": [
    {
     "name": "stdout",
     "output_type": "stream",
     "text": [
      "Haider\n"
     ]
    }
   ],
   "source": [
    "# Calling elements using index number\n",
    "print(arr[1])\n"
   ]
  },
  {
   "cell_type": "code",
   "execution_count": 65,
   "metadata": {},
   "outputs": [
    {
     "name": "stdout",
     "output_type": "stream",
     "text": [
      "['Ali', 'Haider', 'Salman', 25, False, 0.9, 'umer']\n"
     ]
    }
   ],
   "source": [
    "arr.append(\"umer\")\n",
    "print(arr)"
   ]
  },
  {
   "cell_type": "code",
   "execution_count": 66,
   "metadata": {},
   "outputs": [
    {
     "name": "stdout",
     "output_type": "stream",
     "text": [
      "['Ali', 'Haider', 'Salman', 25, False, 0.9, 'umer', 'Ghous', 'Nouroz']\n"
     ]
    }
   ],
   "source": [
    "arr1= arr + [\"Ghous\" , \"Nouroz\"]\n",
    "print(arr1)"
   ]
  },
  {
   "cell_type": "code",
   "execution_count": 67,
   "metadata": {},
   "outputs": [
    {
     "name": "stdout",
     "output_type": "stream",
     "text": [
      "Good Day\n"
     ]
    }
   ],
   "source": [
    "print(\"Good Day\")"
   ]
  },
  {
   "cell_type": "code",
   "execution_count": 68,
   "metadata": {},
   "outputs": [
    {
     "name": "stdout",
     "output_type": "stream",
     "text": [
      "['Ali', 'Haider', 'Raza', 'Salman', 25, False, 0.9, 'umer', 'Ghous', 'Nouroz']\n"
     ]
    }
   ],
   "source": [
    "arr1.insert(2, \"Raza\")\n",
    "print(arr1)"
   ]
  },
  {
   "cell_type": "code",
   "execution_count": 69,
   "metadata": {},
   "outputs": [
    {
     "name": "stdout",
     "output_type": "stream",
     "text": [
      "['Ali', 'Haider', 'Raza', 'Salman', 25, True, 0.9, 'umer', 'Ghous', 'Nouroz']\n"
     ]
    }
   ],
   "source": [
    "arr1[5]=True\n",
    "print(arr1)"
   ]
  },
  {
   "cell_type": "code",
   "execution_count": 70,
   "metadata": {},
   "outputs": [
    {
     "name": "stdout",
     "output_type": "stream",
     "text": [
      "['Raza', 'Salman', 25, True, 0.9]\n"
     ]
    }
   ],
   "source": [
    "arr2 = arr1[2 : 7] # shows values from element 2 to 6. 7 th element in not included\n",
    "print(arr2)"
   ]
  },
  {
   "cell_type": "code",
   "execution_count": 71,
   "metadata": {},
   "outputs": [
    {
     "name": "stdout",
     "output_type": "stream",
     "text": [
      "['Ali', 'Haider', 'Salman', 25, False]\n"
     ]
    }
   ],
   "source": [
    "arr3 = arr[:5] # print values from 0 to 4\n",
    "print(arr3)"
   ]
  },
  {
   "cell_type": "code",
   "execution_count": 72,
   "metadata": {},
   "outputs": [
    {
     "name": "stdout",
     "output_type": "stream",
     "text": [
      "['Ali', 'Haider', 'Salman', 25, False, 0.9, 'umer']\n"
     ]
    }
   ],
   "source": [
    "print(arr)"
   ]
  },
  {
   "cell_type": "code",
   "execution_count": 73,
   "metadata": {},
   "outputs": [
    {
     "name": "stdout",
     "output_type": "stream",
     "text": [
      "['Ali', 'Salman', 25, False, 0.9, 'umer']\n"
     ]
    }
   ],
   "source": [
    "del arr[1]  # Haider, the element 1 will be deleted\n",
    "print(arr)"
   ]
  },
  {
   "cell_type": "code",
   "execution_count": 74,
   "metadata": {},
   "outputs": [
    {
     "name": "stdout",
     "output_type": "stream",
     "text": [
      "['Ali', 25, False, 0.9, 'umer']\n"
     ]
    }
   ],
   "source": [
    "arr.remove(\"Salman\")\n",
    "print(arr)"
   ]
  },
  {
   "cell_type": "code",
   "execution_count": 75,
   "metadata": {},
   "outputs": [
    {
     "name": "stdout",
     "output_type": "stream",
     "text": [
      "umer\n"
     ]
    }
   ],
   "source": [
    "#poping prints only last element in the list\n",
    "arr1= arr.pop()\n",
    "print(arr1)"
   ]
  },
  {
   "cell_type": "code",
   "execution_count": null,
   "metadata": {},
   "outputs": [],
   "source": []
  }
 ],
 "metadata": {
  "kernelspec": {
   "display_name": "Python 3",
   "language": "python",
   "name": "python3"
  },
  "language_info": {
   "codemirror_mode": {
    "name": "ipython",
    "version": 3
   },
   "file_extension": ".py",
   "mimetype": "text/x-python",
   "name": "python",
   "nbconvert_exporter": "python",
   "pygments_lexer": "ipython3",
   "version": "3.7.4"
  }
 },
 "nbformat": 4,
 "nbformat_minor": 2
}
