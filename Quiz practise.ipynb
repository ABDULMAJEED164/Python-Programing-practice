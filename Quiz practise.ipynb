{
 "cells": [
  {
   "cell_type": "code",
   "execution_count": 12,
   "metadata": {},
   "outputs": [
    {
     "name": "stdout",
     "output_type": "stream",
     "text": [
      "1. What is your country name?\n",
      "please write the correct option.\n",
      "Pakistan\n",
      "USA\n",
      "UAE\n",
      "Africa\n",
      "1pakistan\n",
      "2. What is your city name?\n",
      "please write the correct option.\n",
      "Hyderabad\n",
      "Karachi\n",
      "Islamabad\n",
      "Tharparkar\n",
      "1hyderabad\n",
      "3. What is the name of capital city of Pakistan?\n",
      "please write the correct option.\n",
      "Hyderabad\n",
      "Karachi\n",
      "Islamabad\n",
      "Tharparkar\n",
      "1islamabad\n",
      "your score is 3\n"
     ]
    }
   ],
   "source": [
    "questions=[\n",
    "   {\n",
    "       \"S.no\"   : 1,\n",
    "       \"question\": \"What is your country name?\",\n",
    "       \"options\" : [\"Pakistan\", \"USA\", \"UAE\", \"Africa\"],\n",
    "        \"answer\" : \"pakistan\",\n",
    "   },\n",
    "    \n",
    "   {\n",
    "       \"S.no\"   : 2,\n",
    "       \"question\": \"What is your city name?\",\n",
    "       \"options\" : [\"Hyderabad\", \"Karachi\", \"Islamabad\", \"Tharparkar\"],\n",
    "        \"answer\" : \"hyderabad\",\n",
    "   },\n",
    "   {\n",
    "       \"S.no\"   : 3,\n",
    "       \"question\": \"What is the name of capital city of Pakistan?\",\n",
    "       \"options\" : [\"Hyderabad\", \"Karachi\", \"Islamabad\", \"Tharparkar\"],\n",
    "        \"answer\" : \"islamabad\",\n",
    "   },\n",
    "]\n",
    "\n",
    "score = 0\n",
    "for amc in questions:\n",
    "    data = str(amc[\"S.no\"]) + \". \"+ amc[\"question\"] +\"\\nplease write the correct option.\\n\"+ amc[\"options\"][0] +\"\\n\"+ amc[\"options\"][1] +\"\\n\"+ amc[\"options\"][2] +\"\\n\"+ amc[\"options\"][3] +\"\\n1\"\n",
    "    ahc=input(data)\n",
    "    if ahc==amc[\"answer\"]:\n",
    "        score += 1\n",
    "        \n",
    "print(\"your score is\" +\" \"+ str(score))\n",
    "    \n",
    "    \n",
    "    \n",
    "    \n",
    "    \n",
    "    \n",
    "    \n",
    "    \n",
    "    "
   ]
  },
  {
   "cell_type": "code",
   "execution_count": null,
   "metadata": {},
   "outputs": [],
   "source": [
    " "
   ]
  },
  {
   "cell_type": "code",
   "execution_count": null,
   "metadata": {},
   "outputs": [],
   "source": []
  }
 ],
 "metadata": {
  "kernelspec": {
   "display_name": "Python 3",
   "language": "python",
   "name": "python3"
  },
  "language_info": {
   "codemirror_mode": {
    "name": "ipython",
    "version": 3
   },
   "file_extension": ".py",
   "mimetype": "text/x-python",
   "name": "python",
   "nbconvert_exporter": "python",
   "pygments_lexer": "ipython3",
   "version": "3.7.4"
  }
 },
 "nbformat": 4,
 "nbformat_minor": 2
}
