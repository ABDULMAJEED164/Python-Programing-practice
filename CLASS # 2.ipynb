{
 "cells": [
  {
   "cell_type": "code",
   "execution_count": 15,
   "metadata": {},
   "outputs": [
    {
     "name": "stdout",
     "output_type": "stream",
     "text": [
      "Enter Your Age 10\n",
      "Enter Your Gender Male\n",
      "Enter Your City Hyderabad\n",
      "Not Allowed...!!!\n"
     ]
    }
   ],
   "source": [
    "age = int(input(\"Enter Your Age \"))\n",
    "gender = str(input(\"Enter Your Gender \"))\n",
    "city = str(input(\"Enter Your City \"))\n",
    "\n",
    "if age >= 18 and gender == \"Male\" or city == \"Karachi\":\n",
    "    print (\"YOu Are Allowed to Participate...!!!\")\n",
    "else :\n",
    "    print(\"Not Allowed...!!!\")"
   ]
  },
  {
   "cell_type": "code",
   "execution_count": 8,
   "metadata": {},
   "outputs": [
    {
     "name": "stdout",
     "output_type": "stream",
     "text": [
      "Your Answer is correct\n"
     ]
    }
   ],
   "source": [
    "x = 10;\n",
    "y = 12;\n",
    "a = 30;\n",
    "b = 10;\n",
    "\n",
    "if x + y != a-b :\n",
    "    print (\"Your Answer is correct\")\n",
    "else :\n",
    "    print(\"Wronge Answer\")"
   ]
  },
  {
   "cell_type": "code",
   "execution_count": 23,
   "metadata": {},
   "outputs": [
    {
     "name": "stdout",
     "output_type": "stream",
     "text": [
      "Enter Your Percentage 100\n",
      "Grade : A+\n"
     ]
    }
   ],
   "source": [
    "per = int(input(\"Enter Your Percentage \"))\n",
    "g = \"Grade :\"\n",
    "if per >= 80 and per <= 100 :\n",
    "    print (g+\" A+\")\n",
    "elif per >= 70 and per <80 :\n",
    "    print(g+\" A\")\n",
    "elif per >=60 and per < 70 :\n",
    "    print (g+\" B\")\n",
    "elif per >= 0 and per <60 :\n",
    "    print(\"Fail\")\n",
    "else :\n",
    "    print(\"Please Enter a Valid Percentage ..!!\")"
   ]
  },
  {
   "cell_type": "code",
   "execution_count": 30,
   "metadata": {},
   "outputs": [
    {
     "name": "stdout",
     "output_type": "stream",
     "text": [
      "11\n"
     ]
    }
   ],
   "source": [
    "a = 5;\n",
    "b = 6;\n",
    "c = 7;\n",
    "d = 70;\n",
    "e = 9;\n",
    "g = 10;\n",
    "f = 11;\n",
    "x = 12;\n",
    "y = 120;\n",
    "h1 = 0;\n",
    "h2 = 20;\n",
    "h3 = 40;\n",
    "\n",
    "if c == d :\n",
    "    if x == y :\n",
    "        g = h1\n",
    "        print (g)\n",
    "    \n",
    "    elif a == b :\n",
    "        g = h2\n",
    "        print (g)\n",
    "    else :\n",
    "        e = h3\n",
    "        print(e)\n",
    "    \n",
    "else :\n",
    "    e = f\n",
    "    print(e)"
   ]
  },
  {
   "cell_type": "code",
   "execution_count": 117,
   "metadata": {},
   "outputs": [
    {
     "name": "stdout",
     "output_type": "stream",
     "text": [
      "['Noroz', 'Ali', 'Umar', 25, False, 0.9]\n"
     ]
    }
   ],
   "source": [
    "arr = [\"Noroz\", \"Ali\", \"Umar\", 25 ,False , 0.9]\n",
    "print(arr)"
   ]
  },
  {
   "cell_type": "code",
   "execution_count": 118,
   "metadata": {},
   "outputs": [
    {
     "name": "stdout",
     "output_type": "stream",
     "text": [
      "Ali\n"
     ]
    }
   ],
   "source": [
    "print(arr[1])"
   ]
  },
  {
   "cell_type": "code",
   "execution_count": 119,
   "metadata": {},
   "outputs": [
    {
     "name": "stdout",
     "output_type": "stream",
     "text": [
      "25\n"
     ]
    }
   ],
   "source": [
    "print(arr[3])"
   ]
  },
  {
   "cell_type": "code",
   "execution_count": 121,
   "metadata": {},
   "outputs": [
    {
     "name": "stdout",
     "output_type": "stream",
     "text": [
      "['Noroz', 'Ali', 'Umar', 25, False, 0.9, 'Abdul Hameed']\n"
     ]
    }
   ],
   "source": [
    "arr.append(\"Abdul Hameed\")\n",
    "print(arr)"
   ]
  },
  {
   "cell_type": "code",
   "execution_count": 122,
   "metadata": {},
   "outputs": [
    {
     "name": "stdout",
     "output_type": "stream",
     "text": [
      "['Noroz', 'Ali', 'Umar', 25, False, 0.9, 'Abdul Hameed', 'Ghous', 'Ali']\n"
     ]
    }
   ],
   "source": [
    "arr1 = arr + [\"Ghous\", \"Ali\"]\n",
    "print(arr1)"
   ]
  },
  {
   "cell_type": "code",
   "execution_count": 123,
   "metadata": {},
   "outputs": [
    {
     "name": "stdout",
     "output_type": "stream",
     "text": [
      "['Ahmad', 'Noroz', 'Ali', 'Umar', 25, False, 0.9, 'Abdul Hameed', 'Ghous', 'Ali']\n"
     ]
    }
   ],
   "source": [
    "arr1.insert(0, \"Ahmad\")\n",
    "print(arr1)"
   ]
  },
  {
   "cell_type": "code",
   "execution_count": 124,
   "metadata": {},
   "outputs": [
    {
     "name": "stdout",
     "output_type": "stream",
     "text": [
      "['Ahmad', 'Noroz', 'Ali', 'Umar', 25, True, 0.9, 'Abdul Hameed', 'Ghous', 'Ali']\n"
     ]
    }
   ],
   "source": [
    "arr1[5] = True\n",
    "print(arr1)"
   ]
  },
  {
   "cell_type": "code",
   "execution_count": 125,
   "metadata": {},
   "outputs": [
    {
     "name": "stdout",
     "output_type": "stream",
     "text": [
      "['Ali', 'Umar', 25, True, 0.9]\n"
     ]
    }
   ],
   "source": [
    "arr2 = arr1[2 : 7] #7 means index no 6\n",
    "print(arr2)"
   ]
  },
  {
   "cell_type": "code",
   "execution_count": 126,
   "metadata": {},
   "outputs": [
    {
     "name": "stdout",
     "output_type": "stream",
     "text": [
      "['Ahmad', 'Noroz', 'Ali', 'Umar', 25, True, 0.9, 'Abdul Hameed', 'Ghous', 'Ali']\n"
     ]
    }
   ],
   "source": [
    "print(arr1)"
   ]
  },
  {
   "cell_type": "code",
   "execution_count": 127,
   "metadata": {},
   "outputs": [
    {
     "name": "stdout",
     "output_type": "stream",
     "text": [
      "['Ahmad', 'Noroz', 'Ali', 'Umar', 25]\n"
     ]
    }
   ],
   "source": [
    "arr3 = arr1[:5]\n",
    "print(arr3)"
   ]
  },
  {
   "cell_type": "code",
   "execution_count": 128,
   "metadata": {},
   "outputs": [
    {
     "name": "stdout",
     "output_type": "stream",
     "text": [
      "['Ahmad', 'Noroz', 'Ali', 'Umar', 25, True, 'Abdul Hameed', 'Ghous', 'Ali']\n"
     ]
    }
   ],
   "source": [
    "del arr1[6]\n",
    "print(arr1)"
   ]
  },
  {
   "cell_type": "code",
   "execution_count": 129,
   "metadata": {},
   "outputs": [
    {
     "name": "stdout",
     "output_type": "stream",
     "text": [
      "['Ahmad', 'Noroz', 'Ali', 'Umar', 25, True, 'Ghous', 'Ali']\n"
     ]
    }
   ],
   "source": [
    "arr1.remove(\"Abdul Hameed\")\n",
    "print(arr1)"
   ]
  },
  {
   "cell_type": "code",
   "execution_count": 131,
   "metadata": {},
   "outputs": [
    {
     "name": "stdout",
     "output_type": "stream",
     "text": [
      "Ali\n"
     ]
    }
   ],
   "source": [
    "arr4 = arr1.pop()\n",
    "print(arr4)"
   ]
  },
  {
   "cell_type": "code",
   "execution_count": null,
   "metadata": {},
   "outputs": [],
   "source": []
  }
 ],
 "metadata": {
  "kernelspec": {
   "display_name": "Python 3",
   "language": "python",
   "name": "python3"
  },
  "language_info": {
   "codemirror_mode": {
    "name": "ipython",
    "version": 3
   },
   "file_extension": ".py",
   "mimetype": "text/x-python",
   "name": "python",
   "nbconvert_exporter": "python",
   "pygments_lexer": "ipython3",
   "version": "3.7.4"
  }
 },
 "nbformat": 4,
 "nbformat_minor": 2
}
