{
 "cells": [
  {
   "cell_type": "code",
   "execution_count": 1,
   "metadata": {},
   "outputs": [
    {
     "name": "stdout",
     "output_type": "stream",
     "text": [
      "('ali', 'umer', 'ghous')\n"
     ]
    }
   ],
   "source": [
    "#Touples like list but the elements in touple can not be changed\n",
    "tp=(\"ali\", 'umer', 'ghous')\n",
    "print(tp)"
   ]
  },
  {
   "cell_type": "code",
   "execution_count": 3,
   "metadata": {},
   "outputs": [
    {
     "ename": "TypeError",
     "evalue": "'tuple' object does not support item assignment",
     "output_type": "error",
     "traceback": [
      "\u001b[1;31m---------------------------------------------------------------------------\u001b[0m",
      "\u001b[1;31mTypeError\u001b[0m                                 Traceback (most recent call last)",
      "\u001b[1;32m<ipython-input-3-49e48b6ade23>\u001b[0m in \u001b[0;36m<module>\u001b[1;34m\u001b[0m\n\u001b[1;32m----> 1\u001b[1;33m \u001b[0mtp\u001b[0m\u001b[1;33m[\u001b[0m\u001b[1;36m1\u001b[0m\u001b[1;33m]\u001b[0m\u001b[1;33m=\u001b[0m\u001b[1;34m'umair'\u001b[0m \u001b[1;31m# the output shows element 1 cann't be changed with umair\u001b[0m\u001b[1;33m\u001b[0m\u001b[1;33m\u001b[0m\u001b[0m\n\u001b[0m",
      "\u001b[1;31mTypeError\u001b[0m: 'tuple' object does not support item assignment"
     ]
    }
   ],
   "source": [
    "tp[1]='umair' # the output shows element 1 cann't be changed with umair"
   ]
  },
  {
   "cell_type": "code",
   "execution_count": 5,
   "metadata": {},
   "outputs": [
    {
     "name": "stdout",
     "output_type": "stream",
     "text": [
      "enter first value3\n",
      "enter second value4\n",
      "enter operator+\n",
      "7 answer\n"
     ]
    }
   ],
   "source": [
    "v1= int(input('enter first value'))\n",
    "v2= int(input('enter second value'))\n",
    "opr=input('enter operator')\n",
    "if opr== '+':\n",
    "    v= v1 + v2\n",
    "    print(v,'answer')\n",
    "elif opr=='-':\n",
    "    v= v1 - v2\n",
    "    print(v, 'answer')\n",
    "elif opr=='*':\n",
    "    v= v1 * v2\n",
    "    print(v,'answer')\n",
    "elif opr=='/':\n",
    "    v= v1 / v2\n",
    "    print(v,'answer')\n",
    "else:\n",
    "          print(\"enter correct operator\")"
   ]
  },
  {
   "cell_type": "code",
   "execution_count": null,
   "metadata": {},
   "outputs": [],
   "source": []
  }
 ],
 "metadata": {
  "kernelspec": {
   "display_name": "Python 3",
   "language": "python",
   "name": "python3"
  },
  "language_info": {
   "codemirror_mode": {
    "name": "ipython",
    "version": 3
   },
   "file_extension": ".py",
   "mimetype": "text/x-python",
   "name": "python",
   "nbconvert_exporter": "python",
   "pygments_lexer": "ipython3",
   "version": "3.7.4"
  }
 },
 "nbformat": 4,
 "nbformat_minor": 2
}
