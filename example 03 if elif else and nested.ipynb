{
 "cells": [
  {
   "cell_type": "code",
   "execution_count": 6,
   "metadata": {},
   "outputs": [
    {
     "name": "stdout",
     "output_type": "stream",
     "text": [
      "What is your age 16\n",
      "You are not allowed\n"
     ]
    }
   ],
   "source": [
    "age= int(input(\"What is your age \"))\n",
    "if age>=18:\n",
    "    print(\"you are allowed\")\n",
    "else:\n",
    "    print(\"You are not allowed\")"
   ]
  },
  {
   "cell_type": "code",
   "execution_count": 12,
   "metadata": {},
   "outputs": [
    {
     "name": "stdout",
     "output_type": "stream",
     "text": [
      "ENTER YOUR Percentage %90\n",
      "A+\n"
     ]
    }
   ],
   "source": [
    "p= int(input(\"ENTER YOUR Percentage %\"))\n",
    "if p>=80 and p<=100:\n",
    "    print(\"A+\")\n",
    "elif p>=70 and p<80:\n",
    "    print(\"A\")\n",
    "elif p>=60 and p<70:\n",
    "    print(\"B\")\n",
    "elif p<60:\n",
    "    print(\"Fail\")\n",
    "else:\n",
    "    print(\"Enter Valid Percentage\")\n"
   ]
  },
  {
   "cell_type": "code",
   "execution_count": 25,
   "metadata": {},
   "outputs": [
    {
     "name": "stdout",
     "output_type": "stream",
     "text": [
      "Enter Your age 45\n",
      "Enter Your Residency karachi\n",
      "Error\n"
     ]
    }
   ],
   "source": [
    "a= int(input('Enter Your age '))\n",
    "r= input('Enter Your Residency ')\n",
    "if (a<65 or a==20) and r=='hyderabad':\n",
    "             print('You are allowed')\n",
    "else:\n",
    "             print(\"Error\")"
   ]
  },
  {
   "cell_type": "code",
   "execution_count": 29,
   "metadata": {},
   "outputs": [
    {
     "name": "stdout",
     "output_type": "stream",
     "text": [
      "10\n"
     ]
    }
   ],
   "source": [
    "a=5;\n",
    "b=6;\n",
    "c=7;\n",
    "d=7;\n",
    "e=9;\n",
    "f=11;\n",
    "g=10;\n",
    "h=0;\n",
    "x=12;\n",
    "y=12;\n",
    "\n",
    "if (x==y or a==b) and c == d:\n",
    "    h=g\n",
    "    print(g)\n",
    "else :\n",
    "    e=f\n",
    "    print(e)"
   ]
  },
  {
   "cell_type": "code",
   "execution_count": 30,
   "metadata": {},
   "outputs": [
    {
     "name": "stdout",
     "output_type": "stream",
     "text": [
      "10\n"
     ]
    }
   ],
   "source": [
    "a=5;\n",
    "b=6;\n",
    "c=7;\n",
    "d=7;\n",
    "e=9;\n",
    "f=11;\n",
    "g=10;\n",
    "h=0;\n",
    "x=12;\n",
    "y=12;\n",
    "\n",
    "if c == d: #true\n",
    "    if x==y: #true\n",
    "     h=g # h becomes g that is 10\n",
    "     print(g) \n",
    "    else:\n",
    "        e=f\n",
    "        print(e)\n",
    "else :\n",
    "    e=f\n",
    "    print(e)"
   ]
  },
  {
   "cell_type": "code",
   "execution_count": null,
   "metadata": {},
   "outputs": [],
   "source": []
  }
 ],
 "metadata": {
  "kernelspec": {
   "display_name": "Python 3",
   "language": "python",
   "name": "python3"
  },
  "language_info": {
   "codemirror_mode": {
    "name": "ipython",
    "version": 3
   },
   "file_extension": ".py",
   "mimetype": "text/x-python",
   "name": "python",
   "nbconvert_exporter": "python",
   "pygments_lexer": "ipython3",
   "version": "3.7.4"
  }
 },
 "nbformat": 4,
 "nbformat_minor": 2
}
